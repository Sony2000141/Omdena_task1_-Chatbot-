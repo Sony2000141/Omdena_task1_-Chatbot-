{
 "cells": [
  {
   "cell_type": "code",
   "execution_count": 2,
   "id": "7bd01c41",
   "metadata": {},
   "outputs": [
    {
     "name": "stdout",
     "output_type": "stream",
     "text": [
      "{'@context': ['https://geojson.org/geojson-ld/geojson-context.jsonld', {'@version': '1.1', 'wx': 'https://api.weather.gov/ontology#', 'geo': 'http://www.opengis.net/ont/geosparql#', 'unit': 'http://codes.wmo.int/common/unit/', '@vocab': 'https://api.weather.gov/ontology#'}], 'type': 'Feature', 'geometry': {'type': 'Polygon', 'coordinates': [[[-97.1089731, 39.7668263], [-97.1085269, 39.7447788], [-97.0798467, 39.7451195], [-97.08028680000001, 39.767167], [-97.1089731, 39.7668263]]]}, 'properties': {'updated': '2023-12-20T08:26:41+00:00', 'units': 'us', 'forecastGenerator': 'BaselineForecastGenerator', 'generatedAt': '2023-12-20T10:24:49+00:00', 'updateTime': '2023-12-20T08:26:41+00:00', 'validTimes': '2023-12-20T02:00:00+00:00/P7DT23H', 'elevation': {'unitCode': 'wmoUnit:m', 'value': 441.96}, 'periods': [{'number': 1, 'name': 'Overnight', 'startTime': '2023-12-20T04:00:00-06:00', 'endTime': '2023-12-20T06:00:00-06:00', 'isDaytime': False, 'temperature': 34, 'temperatureUnit': 'F', 'temperatureTrend': None, 'probabilityOfPrecipitation': {'unitCode': 'wmoUnit:percent', 'value': None}, 'dewpoint': {'unitCode': 'wmoUnit:degC', 'value': 0.5555555555555556}, 'relativeHumidity': {'unitCode': 'wmoUnit:percent', 'value': 94}, 'windSpeed': '10 mph', 'windDirection': 'S', 'icon': 'https://api.weather.gov/icons/land/night/sct?size=medium', 'shortForecast': 'Partly Cloudy', 'detailedForecast': 'Partly cloudy, with a low around 34. South wind around 10 mph.'}, {'number': 2, 'name': 'Wednesday', 'startTime': '2023-12-20T06:00:00-06:00', 'endTime': '2023-12-20T18:00:00-06:00', 'isDaytime': True, 'temperature': 53, 'temperatureUnit': 'F', 'temperatureTrend': None, 'probabilityOfPrecipitation': {'unitCode': 'wmoUnit:percent', 'value': None}, 'dewpoint': {'unitCode': 'wmoUnit:degC', 'value': 5.555555555555555}, 'relativeHumidity': {'unitCode': 'wmoUnit:percent', 'value': 96}, 'windSpeed': '5 to 10 mph', 'windDirection': 'S', 'icon': 'https://api.weather.gov/icons/land/day/bkn?size=medium', 'shortForecast': 'Mostly Cloudy', 'detailedForecast': 'Mostly cloudy, with a high near 53. South wind 5 to 10 mph.'}, {'number': 3, 'name': 'Wednesday Night', 'startTime': '2023-12-20T18:00:00-06:00', 'endTime': '2023-12-21T06:00:00-06:00', 'isDaytime': False, 'temperature': 41, 'temperatureUnit': 'F', 'temperatureTrend': None, 'probabilityOfPrecipitation': {'unitCode': 'wmoUnit:percent', 'value': None}, 'dewpoint': {'unitCode': 'wmoUnit:degC', 'value': 6.111111111111111}, 'relativeHumidity': {'unitCode': 'wmoUnit:percent', 'value': 100}, 'windSpeed': '5 mph', 'windDirection': 'SE', 'icon': 'https://api.weather.gov/icons/land/night/bkn?size=medium', 'shortForecast': 'Mostly Cloudy', 'detailedForecast': 'Mostly cloudy, with a low around 41. Southeast wind around 5 mph.'}, {'number': 4, 'name': 'Thursday', 'startTime': '2023-12-21T06:00:00-06:00', 'endTime': '2023-12-21T18:00:00-06:00', 'isDaytime': True, 'temperature': 56, 'temperatureUnit': 'F', 'temperatureTrend': None, 'probabilityOfPrecipitation': {'unitCode': 'wmoUnit:percent', 'value': None}, 'dewpoint': {'unitCode': 'wmoUnit:degC', 'value': 10.555555555555555}, 'relativeHumidity': {'unitCode': 'wmoUnit:percent', 'value': 100}, 'windSpeed': '5 to 10 mph', 'windDirection': 'S', 'icon': 'https://api.weather.gov/icons/land/day/bkn?size=medium', 'shortForecast': 'Mostly Cloudy', 'detailedForecast': 'Mostly cloudy, with a high near 56. South wind 5 to 10 mph.'}, {'number': 5, 'name': 'Thursday Night', 'startTime': '2023-12-21T18:00:00-06:00', 'endTime': '2023-12-22T06:00:00-06:00', 'isDaytime': False, 'temperature': 40, 'temperatureUnit': 'F', 'temperatureTrend': None, 'probabilityOfPrecipitation': {'unitCode': 'wmoUnit:percent', 'value': 20}, 'dewpoint': {'unitCode': 'wmoUnit:degC', 'value': 9.444444444444445}, 'relativeHumidity': {'unitCode': 'wmoUnit:percent', 'value': 100}, 'windSpeed': '5 mph', 'windDirection': 'SW', 'icon': 'https://api.weather.gov/icons/land/night/rain,20?size=medium', 'shortForecast': 'Slight Chance Light Rain', 'detailedForecast': 'A slight chance of rain. Mostly cloudy, with a low around 40. Southwest wind around 5 mph. Chance of precipitation is 20%.'}, {'number': 6, 'name': 'Friday', 'startTime': '2023-12-22T06:00:00-06:00', 'endTime': '2023-12-22T18:00:00-06:00', 'isDaytime': True, 'temperature': 56, 'temperatureUnit': 'F', 'temperatureTrend': None, 'probabilityOfPrecipitation': {'unitCode': 'wmoUnit:percent', 'value': None}, 'dewpoint': {'unitCode': 'wmoUnit:degC', 'value': 7.777777777777778}, 'relativeHumidity': {'unitCode': 'wmoUnit:percent', 'value': 100}, 'windSpeed': '5 mph', 'windDirection': 'SW', 'icon': 'https://api.weather.gov/icons/land/day/sct?size=medium', 'shortForecast': 'Mostly Sunny', 'detailedForecast': 'Mostly sunny, with a high near 56. Southwest wind around 5 mph.'}, {'number': 7, 'name': 'Friday Night', 'startTime': '2023-12-22T18:00:00-06:00', 'endTime': '2023-12-23T06:00:00-06:00', 'isDaytime': False, 'temperature': 37, 'temperatureUnit': 'F', 'temperatureTrend': None, 'probabilityOfPrecipitation': {'unitCode': 'wmoUnit:percent', 'value': None}, 'dewpoint': {'unitCode': 'wmoUnit:degC', 'value': 6.666666666666667}, 'relativeHumidity': {'unitCode': 'wmoUnit:percent', 'value': 100}, 'windSpeed': '5 to 10 mph', 'windDirection': 'S', 'icon': 'https://api.weather.gov/icons/land/night/sct?size=medium', 'shortForecast': 'Partly Cloudy', 'detailedForecast': 'Partly cloudy, with a low around 37. South wind 5 to 10 mph.'}, {'number': 8, 'name': 'Saturday', 'startTime': '2023-12-23T06:00:00-06:00', 'endTime': '2023-12-23T18:00:00-06:00', 'isDaytime': True, 'temperature': 59, 'temperatureUnit': 'F', 'temperatureTrend': None, 'probabilityOfPrecipitation': {'unitCode': 'wmoUnit:percent', 'value': 20}, 'dewpoint': {'unitCode': 'wmoUnit:degC', 'value': 12.222222222222221}, 'relativeHumidity': {'unitCode': 'wmoUnit:percent', 'value': 100}, 'windSpeed': '10 to 15 mph', 'windDirection': 'S', 'icon': 'https://api.weather.gov/icons/land/day/bkn/rain,20?size=medium', 'shortForecast': 'Mostly Cloudy then Slight Chance Light Rain', 'detailedForecast': 'A slight chance of rain after noon. Mostly cloudy, with a high near 59. South wind 10 to 15 mph, with gusts as high as 25 mph. Chance of precipitation is 20%.'}, {'number': 9, 'name': 'Saturday Night', 'startTime': '2023-12-23T18:00:00-06:00', 'endTime': '2023-12-24T06:00:00-06:00', 'isDaytime': False, 'temperature': 49, 'temperatureUnit': 'F', 'temperatureTrend': None, 'probabilityOfPrecipitation': {'unitCode': 'wmoUnit:percent', 'value': 80}, 'dewpoint': {'unitCode': 'wmoUnit:degC', 'value': 11.666666666666666}, 'relativeHumidity': {'unitCode': 'wmoUnit:percent', 'value': 100}, 'windSpeed': '15 mph', 'windDirection': 'SE', 'icon': 'https://api.weather.gov/icons/land/night/rain,50/tsra,80?size=medium', 'shortForecast': 'Rain', 'detailedForecast': 'A chance of rain before midnight, then rain and a slight chance of thunderstorms. Mostly cloudy, with a low around 49. Southeast wind around 15 mph, with gusts as high as 30 mph. Chance of precipitation is 80%.'}, {'number': 10, 'name': 'Sunday', 'startTime': '2023-12-24T06:00:00-06:00', 'endTime': '2023-12-24T18:00:00-06:00', 'isDaytime': True, 'temperature': 58, 'temperatureUnit': 'F', 'temperatureTrend': None, 'probabilityOfPrecipitation': {'unitCode': 'wmoUnit:percent', 'value': 80}, 'dewpoint': {'unitCode': 'wmoUnit:degC', 'value': 12.222222222222221}, 'relativeHumidity': {'unitCode': 'wmoUnit:percent', 'value': 100}, 'windSpeed': '15 mph', 'windDirection': 'S', 'icon': 'https://api.weather.gov/icons/land/day/rain,80/rain,70?size=medium', 'shortForecast': 'Light Rain', 'detailedForecast': 'Rain. Mostly cloudy, with a high near 58. Chance of precipitation is 80%.'}, {'number': 11, 'name': 'Sunday Night', 'startTime': '2023-12-24T18:00:00-06:00', 'endTime': '2023-12-25T06:00:00-06:00', 'isDaytime': False, 'temperature': 34, 'temperatureUnit': 'F', 'temperatureTrend': None, 'probabilityOfPrecipitation': {'unitCode': 'wmoUnit:percent', 'value': 40}, 'dewpoint': {'unitCode': 'wmoUnit:degC', 'value': 9.444444444444445}, 'relativeHumidity': {'unitCode': 'wmoUnit:percent', 'value': 96}, 'windSpeed': '15 mph', 'windDirection': 'W', 'icon': 'https://api.weather.gov/icons/land/night/rain,40/rain,30?size=medium', 'shortForecast': 'Chance Light Rain', 'detailedForecast': 'A chance of rain. Mostly cloudy, with a low around 34. Chance of precipitation is 40%.'}, {'number': 12, 'name': 'Christmas Day', 'startTime': '2023-12-25T06:00:00-06:00', 'endTime': '2023-12-25T18:00:00-06:00', 'isDaytime': True, 'temperature': 44, 'temperatureUnit': 'F', 'temperatureTrend': None, 'probabilityOfPrecipitation': {'unitCode': 'wmoUnit:percent', 'value': 40}, 'dewpoint': {'unitCode': 'wmoUnit:degC', 'value': 2.7777777777777777}, 'relativeHumidity': {'unitCode': 'wmoUnit:percent', 'value': 96}, 'windSpeed': '15 mph', 'windDirection': 'NW', 'icon': 'https://api.weather.gov/icons/land/day/rain,40?size=medium', 'shortForecast': 'Chance Light Rain', 'detailedForecast': 'A chance of rain. Partly sunny, with a high near 44. Chance of precipitation is 40%.'}, {'number': 13, 'name': 'Monday Night', 'startTime': '2023-12-25T18:00:00-06:00', 'endTime': '2023-12-26T06:00:00-06:00', 'isDaytime': False, 'temperature': 26, 'temperatureUnit': 'F', 'temperatureTrend': None, 'probabilityOfPrecipitation': {'unitCode': 'wmoUnit:percent', 'value': 20}, 'dewpoint': {'unitCode': 'wmoUnit:degC', 'value': 0}, 'relativeHumidity': {'unitCode': 'wmoUnit:percent', 'value': 89}, 'windSpeed': '15 mph', 'windDirection': 'NW', 'icon': 'https://api.weather.gov/icons/land/night/rain,20?size=medium', 'shortForecast': 'Slight Chance Light Rain', 'detailedForecast': 'A slight chance of rain. Mostly cloudy, with a low around 26. Chance of precipitation is 20%.'}, {'number': 14, 'name': 'Tuesday', 'startTime': '2023-12-26T06:00:00-06:00', 'endTime': '2023-12-26T18:00:00-06:00', 'isDaytime': True, 'temperature': 38, 'temperatureUnit': 'F', 'temperatureTrend': None, 'probabilityOfPrecipitation': {'unitCode': 'wmoUnit:percent', 'value': 20}, 'dewpoint': {'unitCode': 'wmoUnit:degC', 'value': -2.2222222222222223}, 'relativeHumidity': {'unitCode': 'wmoUnit:percent', 'value': 92}, 'windSpeed': '15 mph', 'windDirection': 'NW', 'icon': 'https://api.weather.gov/icons/land/day/rain,20/snow,20?size=medium', 'shortForecast': 'Slight Chance Light Rain then Slight Chance Rain And Snow', 'detailedForecast': 'A slight chance of rain before noon, then a slight chance of rain and snow. Partly sunny, with a high near 38. Chance of precipitation is 20%.'}]}}\n"
     ]
    }
   ],
   "source": [
    "import requests\n",
    "\n",
    "def get_user_location_forecast(latitude, longitude):\n",
    "    url = f\"https://api.weather.gov/points/{latitude},{longitude}\"\n",
    "    response = requests.get(url)\n",
    "    if response.status_code == 200:\n",
    "        forecast_url = response.json()['properties']['forecast']\n",
    "        forecast_response = requests.get(forecast_url)\n",
    "        if forecast_response.status_code == 200:\n",
    "            return forecast_response.json()\n",
    "        else:\n",
    "            return \"Error fetching forecast data\"\n",
    "    else:\n",
    "        return \"Error finding location\"\n",
    "\n",
    "# Example usage\n",
    "latitude = \"39.7456\"  # Replace with your latitude\n",
    "longitude = \"-97.0892\"  # Replace with your longitude\n",
    "forecast_data = get_user_location_forecast(latitude, longitude)\n",
    "print(forecast_data)\n"
   ]
  },
  {
   "cell_type": "code",
   "execution_count": null,
   "id": "57ee0326",
   "metadata": {},
   "outputs": [],
   "source": []
  }
 ],
 "metadata": {
  "kernelspec": {
   "display_name": "Python 3 (ipykernel)",
   "language": "python",
   "name": "python3"
  },
  "language_info": {
   "codemirror_mode": {
    "name": "ipython",
    "version": 3
   },
   "file_extension": ".py",
   "mimetype": "text/x-python",
   "name": "python",
   "nbconvert_exporter": "python",
   "pygments_lexer": "ipython3",
   "version": "3.11.4"
  }
 },
 "nbformat": 4,
 "nbformat_minor": 5
}
